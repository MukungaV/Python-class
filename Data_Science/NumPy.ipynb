{
 "cells": [
  {
   "cell_type": "code",
   "execution_count": 1,
   "metadata": {},
   "outputs": [],
   "source": [
    "import numpy as np"
   ]
  },
  {
   "cell_type": "code",
   "execution_count": 2,
   "metadata": {},
   "outputs": [],
   "source": [
    "myList = [1,2,3,4,5,6,7]"
   ]
  },
  {
   "cell_type": "code",
   "execution_count": 3,
   "metadata": {},
   "outputs": [
    {
     "data": {
      "text/plain": [
       "[1, 2, 3, 4, 5, 6, 7]"
      ]
     },
     "execution_count": 3,
     "metadata": {},
     "output_type": "execute_result"
    }
   ],
   "source": [
    "myList"
   ]
  },
  {
   "cell_type": "code",
   "execution_count": 4,
   "metadata": {},
   "outputs": [],
   "source": [
    "myMatrix = [[1,2,3],[4,5,6],[7,8,9]]"
   ]
  },
  {
   "cell_type": "code",
   "execution_count": 5,
   "metadata": {},
   "outputs": [
    {
     "data": {
      "text/plain": [
       "[[1, 2, 3], [4, 5, 6], [7, 8, 9]]"
      ]
     },
     "execution_count": 5,
     "metadata": {},
     "output_type": "execute_result"
    }
   ],
   "source": [
    "myMatrix"
   ]
  },
  {
   "cell_type": "code",
   "execution_count": 6,
   "metadata": {},
   "outputs": [
    {
     "data": {
      "text/plain": [
       "array([[1, 2, 3],\n",
       "       [4, 5, 6],\n",
       "       [7, 8, 9]])"
      ]
     },
     "execution_count": 6,
     "metadata": {},
     "output_type": "execute_result"
    }
   ],
   "source": [
    "np.array(myMatrix)"
   ]
  },
  {
   "cell_type": "code",
   "execution_count": 7,
   "metadata": {},
   "outputs": [
    {
     "data": {
      "text/plain": [
       "array([0.67752733, 0.44504099, 0.63125029])"
      ]
     },
     "execution_count": 7,
     "metadata": {},
     "output_type": "execute_result"
    }
   ],
   "source": [
    "np.random.rand(3)"
   ]
  },
  {
   "cell_type": "code",
   "execution_count": 8,
   "metadata": {},
   "outputs": [
    {
     "data": {
      "text/plain": [
       "array([0.74096835, 0.80701318, 0.00609046, 0.43274426, 0.94945419,\n",
       "       0.16139657, 0.12888952, 0.99796609, 0.9467211 , 0.14328958])"
      ]
     },
     "execution_count": 8,
     "metadata": {},
     "output_type": "execute_result"
    }
   ],
   "source": [
    "np.random.rand(10)"
   ]
  },
  {
   "cell_type": "code",
   "execution_count": 10,
   "metadata": {},
   "outputs": [],
   "source": [
    "myValues = np.random.rand(10,10)"
   ]
  },
  {
   "cell_type": "markdown",
   "metadata": {},
   "source": [
    "myValues"
   ]
  },
  {
   "cell_type": "code",
   "execution_count": 11,
   "metadata": {},
   "outputs": [
    {
     "data": {
      "text/plain": [
       "array([[0.79727024, 0.28712849, 0.57400307, 0.00289149, 0.72643405,\n",
       "        0.24792595, 0.5994965 , 0.30054787, 0.79483894, 0.31801736],\n",
       "       [0.96680747, 0.2090586 , 0.20915617, 0.97311227, 0.76695144,\n",
       "        0.24999928, 0.28073024, 0.96141156, 0.37153893, 0.60797636],\n",
       "       [0.97738707, 0.95980504, 0.64588066, 0.75158866, 0.92770223,\n",
       "        0.79352402, 0.86609428, 0.97536961, 0.6433591 , 0.33242701],\n",
       "       [0.10508962, 0.72431379, 0.16257833, 0.76028938, 0.58811322,\n",
       "        0.44425543, 0.62589234, 0.77147748, 0.246647  , 0.52432866],\n",
       "       [0.39754985, 0.60122112, 0.32805368, 0.9562656 , 0.40759949,\n",
       "        0.61664499, 0.54089775, 0.62526256, 0.51382988, 0.14421322],\n",
       "       [0.4144067 , 0.37252924, 0.66229028, 0.80936405, 0.55513639,\n",
       "        0.6767193 , 0.66381738, 0.35674428, 0.25479115, 0.63798715],\n",
       "       [0.26305661, 0.06715983, 0.05850499, 0.43010829, 0.86001211,\n",
       "        0.17748481, 0.30407082, 0.39328543, 0.27685842, 0.24828395],\n",
       "       [0.48557189, 0.19872235, 0.7512415 , 0.9312461 , 0.70222243,\n",
       "        0.70312323, 0.90899138, 0.99805619, 0.2504142 , 0.58484053],\n",
       "       [0.7017248 , 0.05941862, 0.97307441, 0.23868122, 0.05152715,\n",
       "        0.62052384, 0.41712146, 0.69252628, 0.79903608, 0.32684188],\n",
       "       [0.67146357, 0.4098246 , 0.75258067, 0.68235365, 0.15882915,\n",
       "        0.06598966, 0.86849079, 0.45936449, 0.58000693, 0.55950899]])"
      ]
     },
     "execution_count": 11,
     "metadata": {},
     "output_type": "execute_result"
    }
   ],
   "source": [
    "myValues"
   ]
  },
  {
   "cell_type": "code",
   "execution_count": 12,
   "metadata": {},
   "outputs": [
    {
     "data": {
      "text/plain": [
       "0.998056194182212"
      ]
     },
     "execution_count": 12,
     "metadata": {},
     "output_type": "execute_result"
    }
   ],
   "source": [
    "myValues.max()"
   ]
  },
  {
   "cell_type": "code",
   "execution_count": 13,
   "metadata": {},
   "outputs": [
    {
     "data": {
      "text/plain": [
       "0.0028914907016143188"
      ]
     },
     "execution_count": 13,
     "metadata": {},
     "output_type": "execute_result"
    }
   ],
   "source": [
    "myValues.min()"
   ]
  },
  {
   "cell_type": "code",
   "execution_count": 14,
   "metadata": {},
   "outputs": [
    {
     "data": {
      "text/plain": [
       "77"
      ]
     },
     "execution_count": 14,
     "metadata": {},
     "output_type": "execute_result"
    }
   ],
   "source": [
    "myValues.argmax()"
   ]
  },
  {
   "cell_type": "code",
   "execution_count": 15,
   "metadata": {},
   "outputs": [
    {
     "data": {
      "text/plain": [
       "3"
      ]
     },
     "execution_count": 15,
     "metadata": {},
     "output_type": "execute_result"
    }
   ],
   "source": [
    "myValues.argmin()"
   ]
  },
  {
   "cell_type": "code",
   "execution_count": null,
   "metadata": {},
   "outputs": [],
   "source": []
  }
 ],
 "metadata": {
  "kernelspec": {
   "display_name": "Python 3",
   "language": "python",
   "name": "python3"
  },
  "language_info": {
   "codemirror_mode": {
    "name": "ipython",
    "version": 3
   },
   "file_extension": ".py",
   "mimetype": "text/x-python",
   "name": "python",
   "nbconvert_exporter": "python",
   "pygments_lexer": "ipython3",
   "version": "3.7.4"
  }
 },
 "nbformat": 4,
 "nbformat_minor": 2
}
